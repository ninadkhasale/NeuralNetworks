{
 "cells": [
  {
   "cell_type": "code",
   "execution_count": 1,
   "metadata": {},
   "outputs": [
    {
     "name": "stdout",
     "output_type": "stream",
     "text": [
      "Trained weights: [ 2.98380715 -0.81430582]\n",
      "Trained bias: -5.2573218128633865\n",
      "Predicted probabilities: [0.15025213 0.019799   0.93127091 0.98132235]\n"
     ]
    }
   ],
   "source": [
    "import numpy as np\n",
    "\n",
    "# Create a small dataset\n",
    "X = np.array([\n",
    "    [2.0, 3.0],\n",
    "    [1.0, 2.0],\n",
    "    [4.0, 5.0],\n",
    "    [5.0, 7.0]\n",
    "])\n",
    "Y = np.array([0, 0, 1, 1])\n",
    "\n",
    "def sigmoid(z):\n",
    "    return 1 / (1 + np.exp(-z))\n",
    "\n",
    "def compute_cost(Y, Y_pred):\n",
    "    m = len(Y)\n",
    "    return -np.sum(Y * np.log(Y_pred) + (1 - Y) * np.log(1 - Y_pred)) / m\n",
    "\n",
    "def gradient_descent(X, Y, alpha, num_iterations):\n",
    "    m, n = X.shape\n",
    "    W = np.zeros(n)\n",
    "    b = 0\n",
    "    \n",
    "    for _ in range(num_iterations):\n",
    "        Z = np.dot(X, W) + b\n",
    "        Y_pred = sigmoid(Z)\n",
    "        cost = compute_cost(Y, Y_pred)\n",
    "        \n",
    "        dW = np.dot(X.T, (Y_pred - Y)) / m\n",
    "        db = np.sum(Y_pred - Y) / m\n",
    "        \n",
    "        W -= alpha * dW\n",
    "        b -= alpha * db\n",
    "        \n",
    "    return W, b\n",
    "\n",
    "def predict(X, W, b):\n",
    "    Z = np.dot(X, W) + b\n",
    "    Y_pred = sigmoid(Z)\n",
    "    return Y_pred\n",
    "\n",
    "alpha = 0.1\n",
    "num_iterations = 1000\n",
    "\n",
    "W, b = gradient_descent(X, Y, alpha, num_iterations)\n",
    "print(\"Trained weights:\", W)\n",
    "print(\"Trained bias:\", b)\n",
    "\n",
    "Y_pred = predict(X, W, b)\n",
    "print(\"Predicted probabilities:\", Y_pred)\n"
   ]
  },
  {
   "cell_type": "code",
   "execution_count": null,
   "metadata": {},
   "outputs": [],
   "source": []
  }
 ],
 "metadata": {
  "kernelspec": {
   "display_name": "Python 3",
   "language": "python",
   "name": "python3"
  },
  "language_info": {
   "codemirror_mode": {
    "name": "ipython",
    "version": 3
   },
   "file_extension": ".py",
   "mimetype": "text/x-python",
   "name": "python",
   "nbconvert_exporter": "python",
   "pygments_lexer": "ipython3",
   "version": "3.11.4"
  }
 },
 "nbformat": 4,
 "nbformat_minor": 2
}
